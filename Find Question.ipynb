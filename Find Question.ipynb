{
 "cells": [
  {
   "cell_type": "code",
   "execution_count": null,
   "metadata": {
    "collapsed": true
   },
   "outputs": [],
   "source": [
    "def find_questions(comments):\n",
    "    #sent_tokenizes each comment, and checks to see if it start with a question word or ends with a question mark\n",
    "    #each comment is labelled, each sentence in the each comment is also labelled\n",
    "    #there are 2 labeling systems here\n",
    "    line = 0\n",
    "    big_list = []\n",
    "    for k, v in enumerate(comments): \n",
    "        #k is comment index\n",
    "        #v is comment\n",
    "        #line is comment idex \n",
    "        sents = sent_tokenize(v)\n",
    "        line += 1\n",
    "        for i in sents:\n",
    "            try:\n",
    "                if i.partition(' ')[0].lower() in wh_ or v.partition(' ')[2].split()[0].lower() in wh_ or i.split()[-1][-1] == '?':\n",
    "                    var = (1, k, i)\n",
    "                elif i.partition(' ')[0].lower() == 'when' and i.split()[-1] == '?':\n",
    "                    var = (1,k, i)\n",
    "                elif i.partition(' ')[0].lower() == 'what' and i.split()[-1] == '?':\n",
    "                    var = (1,k, i)\n",
    "                elif i.partition(' ')[0].lower() == \"can't\" and i.split()[-1] == '?':\n",
    "                    var = (1,k, i)           \n",
    "                else:\n",
    "                    var = (0, k, i)\n",
    "\n",
    "            except:\n",
    "                var = (0, k, i)\n",
    "            big_list.append(var)\n",
    "    return big_list"
   ]
  }
 ],
 "metadata": {
  "kernelspec": {
   "display_name": "Python 3",
   "language": "python",
   "name": "python3"
  },
  "language_info": {
   "codemirror_mode": {
    "name": "ipython",
    "version": 3
   },
   "file_extension": ".py",
   "mimetype": "text/x-python",
   "name": "python",
   "nbconvert_exporter": "python",
   "pygments_lexer": "ipython3",
   "version": "3.6.3"
  }
 },
 "nbformat": 4,
 "nbformat_minor": 2
}
